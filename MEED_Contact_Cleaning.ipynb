{
 "cells": [
  {
   "cell_type": "markdown",
   "metadata": {},
   "source": [
    "# Meed Contacts Cleaning"
   ]
  },
  {
   "cell_type": "code",
   "execution_count": null,
   "metadata": {},
   "outputs": [],
   "source": [
    "# Import Libraries\n",
    "import xlwings as xw\n",
    "import pandas as pd"
   ]
  },
  {
   "cell_type": "code",
   "execution_count": null,
   "metadata": {},
   "outputs": [],
   "source": [
    "# Active Workbook\n",
    "wb = xw.books.active\n",
    "sht = wb.sheets.active\n",
    "\n",
    "# Converting \"MeedPhone.xlsx\" sheet data in to pandas dataframe\n",
    "oData = sht.range('o2').options(pd.DataFrame, expand='table', index=False).value\n",
    "oData.head()"
   ]
  },
  {
   "cell_type": "code",
   "execution_count": null,
   "metadata": {},
   "outputs": [],
   "source": [
    "# Deleting unwanted columns\n",
    "oData.drop(['Phone','cPhone1','cPhone3','nPhone1','cPhone4'],axis=1,inplace=True)\n",
    "oData.head()"
   ]
  },
  {
   "cell_type": "code",
   "execution_count": null,
   "metadata": {},
   "outputs": [],
   "source": [
    "# Active Workbook\n",
    "wb = xw.books.active\n",
    "sht = wb.sheets.active\n",
    "\n",
    "# Convertin \"ISD Codes.xlsx\" sheet data in to pandas dataframe\n",
    "ISDcodes = sht.range('I1').options(pd.DataFrame, expand='table', index=False).value\n",
    "ISDcodes.head()"
   ]
  },
  {
   "cell_type": "code",
   "execution_count": null,
   "metadata": {},
   "outputs": [],
   "source": [
    "# Converting flots to int\n",
    "ISDcodes['CountryId']=ISDcodes['CountryId'].astype(int)\n",
    "ISDcodes.head()"
   ]
  },
  {
   "cell_type": "code",
   "execution_count": null,
   "metadata": {},
   "outputs": [],
   "source": [
    "# Filters with country name and Phone number\n",
    "nData = pd.DataFrame()\n",
    "\n",
    "for i in range(len(ISDcodes)):\n",
    "    val1 = str(ISDcodes.iloc[i]['CountryName'])\n",
    "    val = str(ISDcodes.iloc[i]['crit']).replace('''\"''',\"\\\\\")\n",
    "    fData = oData[(oData['CountryName'].str.contains(val1)) & (oData['nPhone'].str.contains(val))]\n",
    "    fData['nPhone']=fData['nPhone'].replace(val, str(ISDcodes.iloc[i]['ISDCode']+\" \"), regex=True)\n",
    "    fData['CountryId']=ISDcodes.iloc[i]['CountryId']\n",
    "    nData=nData.append(fData,ignore_index=True)\n",
    "\n",
    "len(nData)\n",
    "sht.range('A1').value=nData"
   ]
  },
  {
   "cell_type": "code",
   "execution_count": null,
   "metadata": {},
   "outputs": [],
   "source": [
    "# Eleminate list form tabel.\n",
    "unFinID = oData[~oData['Id'].isin(finID)]\n",
    "unFinID.head()"
   ]
  },
  {
   "cell_type": "code",
   "execution_count": null,
   "metadata": {},
   "outputs": [],
   "source": [
    "# Filter with only phone numbers.\n",
    "nData = pd.DataFrame()\n",
    "\n",
    "for i in range(len(ISDcodes)):\n",
    "    val = str(ISDcodes.iloc[i]['crit']).replace('''\"''',\"\\\\\")\n",
    "    fData = oData[oData['cPhone3'].str.contains(val)]\n",
    "    if len(fData)>0:\n",
    "        fData['nPhone']=fData['cPhone3'].replace(val, str(ISDcodes.iloc[i]['ISDCode']+\" \"), regex=True)\n",
    "        fData['CountryName']=ISDcodes.iloc[i]['CountryName']\n",
    "        fData['CountryId']=ISDcodes.iloc[i]['CountryId']\n",
    "        fData['ISDCode']=ISDcodes.iloc[i]['ISDCode']\n",
    "        nData = nData.append(fData,ignore_index=True)"
   ]
  },
  {
   "cell_type": "code",
   "execution_count": null,
   "metadata": {},
   "outputs": [],
   "source": [
    "# Active Workbook\n",
    "wb = xw.books.active\n",
    "sht = wb.sheets.active\n",
    "\n",
    "# Send data to Accive Worksheet\n",
    "sht.range('n2').value=nData"
   ]
  }
 ],
 "metadata": {
  "kernelspec": {
   "display_name": "Python 3",
   "language": "python",
   "name": "python3"
  },
  "language_info": {
   "codemirror_mode": {
    "name": "ipython",
    "version": 3
   },
   "file_extension": ".py",
   "mimetype": "text/x-python",
   "name": "python",
   "nbconvert_exporter": "python",
   "pygments_lexer": "ipython3",
   "version": "3.7.1"
  }
 },
 "nbformat": 4,
 "nbformat_minor": 2
}
