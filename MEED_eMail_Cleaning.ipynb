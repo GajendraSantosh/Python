{
 "cells": [
  {
   "cell_type": "markdown",
   "metadata": {},
   "source": [
    "# Meed eMail Cleaning"
   ]
  },
  {
   "cell_type": "code",
   "execution_count": null,
   "metadata": {},
   "outputs": [],
   "source": [
    "# Imports\n",
    "import xlwings as xw\n",
    "import pandas as pd\n",
    "import numpy as np\n",
    "from difflib import get_close_matches"
   ]
  },
  {
   "cell_type": "code",
   "execution_count": null,
   "metadata": {},
   "outputs": [],
   "source": [
    "# Active Workbook\n",
    "wb = xw.books.active\n",
    "sht = wb.sheets.active\n",
    "\n",
    "# Converting \"Meed(eMail).xlsx\" sheet data in to pandas dataframe\n",
    "oData = sht.range('V1').options(pd.DataFrame, expand='table', index=False).value"
   ]
  },
  {
   "cell_type": "code",
   "execution_count": null,
   "metadata": {},
   "outputs": [],
   "source": [
    "# Process 1\n",
    "for i in range(len(oData)):\n",
    "    if get_close_matches(oData.iloc[i]['Email'], ((oData.iloc[i]['keypersonName']).lower()).split()):\n",
    "        oData['eMailType'][i]='Personal'\n",
    "    else:\n",
    "        oData['eMailType'][i]='General'"
   ]
  },
  {
   "cell_type": "code",
   "execution_count": null,
   "metadata": {},
   "outputs": [],
   "source": [
    "# Process 2\n",
    "for i in range(len(oData)):\n",
    "    for list in ((oData.iloc[i]['Email']).lower()).split():\n",
    "        if get_close_matches(list, ((oData.iloc[i]['keypersonName']).lower()).split()):\n",
    "            oData['eMailType'][i]='Personal'\n",
    "            break\n",
    "        else:\n",
    "            oData['eMailType'][i]='General'  "
   ]
  },
  {
   "cell_type": "code",
   "execution_count": null,
   "metadata": {},
   "outputs": [],
   "source": [
    "# Active Workbook\n",
    "wb = xw.books.active\n",
    "sht = wb.sheets.active\n",
    "\n",
    "# Send data to Accive Worksheet\n",
    "sht.range('AD1').value=oData"
   ]
  }
 ],
 "metadata": {
  "kernelspec": {
   "display_name": "Python 3",
   "language": "python",
   "name": "python3"
  },
  "language_info": {
   "codemirror_mode": {
    "name": "ipython",
    "version": 3
   },
   "file_extension": ".py",
   "mimetype": "text/x-python",
   "name": "python",
   "nbconvert_exporter": "python",
   "pygments_lexer": "ipython3",
   "version": "3.7.1"
  }
 },
 "nbformat": 4,
 "nbformat_minor": 2
}
