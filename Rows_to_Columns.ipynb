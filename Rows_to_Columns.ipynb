{
 "cells": [
  {
   "cell_type": "markdown",
   "metadata": {},
   "source": [
    "# Rows to Columns"
   ]
  },
  {
   "cell_type": "code",
   "execution_count": null,
   "metadata": {},
   "outputs": [],
   "source": [
    "# Imports Libraries\n",
    "import xlwings as xw\n",
    "import pandas as pd\n",
    "import numpy as np"
   ]
  },
  {
   "cell_type": "code",
   "execution_count": null,
   "metadata": {},
   "outputs": [],
   "source": [
    "# Active Workbook\n",
    "wb = xw.books.active\n",
    "sht = wb.sheets.active\n",
    "\n",
    "# Converting sheet data in to pandas dataframe\n",
    "oData = sht.range('A1').options(pd.DataFrame, expand='table', index=False).value\n",
    "oData.head()"
   ]
  },
  {
   "cell_type": "code",
   "execution_count": null,
   "metadata": {},
   "outputs": [],
   "source": [
    "# Removing Duplicates\n",
    "uContry=oData.drop_duplicates(subset=('PrimaryTaxonomy','Country'), keep=\"last\")\n",
    "uContry=uContry.sort_values('Country', ascending=True)"
   ]
  },
  {
   "cell_type": "code",
   "execution_count": null,
   "metadata": {},
   "outputs": [],
   "source": [
    "# Active Workbook\n",
    "wb = xw.books.active\n",
    "sht = wb.sheets.active\n",
    "\n",
    "# Converting rows to columns in active sheet\n",
    "for i in range(len(uContry)):\n",
    "    val1=str(uContry.iloc[i]['Country'])\n",
    "    val2=str(uContry.iloc[i]['PrimaryTaxonomy'])\n",
    "    val3=str(uContry.iloc[i]['Region'])\n",
    "    fData = oData[(oData['Country'].str.contains(val1) & (oData['PrimaryTaxonomy'].str.contains(val2)))]\n",
    "    fData=fData.sort_values('Company', ascending=False)\n",
    "    \n",
    "    sht.range('A'+str(i+2)).value=val2\n",
    "    sht.range('B'+str(i+2)).value=val1\n",
    "    sht.range('C'+str(i+2)).value=val3\n",
    "    sht.range('D'+str(i+2)).options(transpose=True,index=False,header=False).value = fData['Company']"
   ]
  },
  {
   "cell_type": "code",
   "execution_count": null,
   "metadata": {
    "collapsed": true
   },
   "outputs": [],
   "source": [
    "# Active Workbook\n",
    "wb = xw.books.active\n",
    "sht = wb.sheets.active\n",
    "\n",
    "# Converting sheet data in to pandas dataframe\n",
    "oData = sht.range('A1').options(pd.DataFrame, expand='table', index=False).value\n",
    "oData.head()"
   ]
  },
  {
   "cell_type": "code",
   "execution_count": null,
   "metadata": {},
   "outputs": [],
   "source": [
    "# Merge all columms data to one columns buy ';' \n",
    "oData['Company'] = oData[oData.columns[4:]].apply(lambda x: ';'.join(x),axis=1)"
   ]
  },
  {
   "cell_type": "code",
   "execution_count": null,
   "metadata": {},
   "outputs": [],
   "source": [
    "# Removing '1*,2*,3*' from the string\n",
    "oData['Company'] = oData['Company'].str.replace(\"\\d+\\*\\s*\", '')"
   ]
  },
  {
   "cell_type": "code",
   "execution_count": null,
   "metadata": {},
   "outputs": [],
   "source": [
    "# Active Workbook\n",
    "wb = xw.books.active\n",
    "sht = wb.sheets.active\n",
    "\n",
    "# OutPut\n",
    "sht.range('A1').value=oData"
   ]
  }
 ],
 "metadata": {
  "kernelspec": {
   "display_name": "Python 3",
   "language": "python",
   "name": "python3"
  },
  "language_info": {
   "codemirror_mode": {
    "name": "ipython",
    "version": 3
   },
   "file_extension": ".py",
   "mimetype": "text/x-python",
   "name": "python",
   "nbconvert_exporter": "python",
   "pygments_lexer": "ipython3",
   "version": "3.7.1"
  }
 },
 "nbformat": 4,
 "nbformat_minor": 2
}
